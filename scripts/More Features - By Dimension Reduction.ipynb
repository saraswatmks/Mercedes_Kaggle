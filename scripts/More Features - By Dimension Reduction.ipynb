{
 "cells": [
  {
   "cell_type": "code",
   "execution_count": 1,
   "metadata": {
    "collapsed": false
   },
   "outputs": [
    {
     "name": "stderr",
     "output_type": "stream",
     "text": [
      "/home/manish/anaconda2/envs/package15/lib/python2.7/site-packages/sklearn/cross_validation.py:44: DeprecationWarning: This module was deprecated in version 0.18 in favor of the model_selection module into which all the refactored classes and functions are moved. Also note that the interface of the new CV iterators are different from that of this module. This module will be removed in 0.20.\n",
      "  \"This module will be removed in 0.20.\", DeprecationWarning)\n"
     ]
    }
   ],
   "source": [
    "import pandas as pd\n",
    "import numpy as np\n",
    "import random\n",
    "from itertools import combinations\n",
    "\n",
    "import matplotlib.pyplot as plt\n",
    "import seaborn as sns\n",
    "\n",
    "import xgboost as xgb\n",
    "\n",
    "from sklearn.random_projection import GaussianRandomProjection\n",
    "from sklearn.random_projection import SparseRandomProjection\n",
    "from sklearn.decomposition import PCA, FastICA\n",
    "from sklearn.decomposition import TruncatedSVD, NMF\n",
    "from sklearn.cluster import FeatureAgglomeration\n",
    "\n",
    "from sklearn.ensemble import RandomForestRegressor\n",
    "from sklearn.linear_model import ElasticNet, Ridge\n",
    "\n",
    "from sklearn.metrics import r2_score\n",
    "from sklearn.preprocessing import LabelEncoder\n",
    "import pickle\n",
    "\n",
    "random.seed(1729)\n"
   ]
  },
  {
   "cell_type": "code",
   "execution_count": 7,
   "metadata": {
    "collapsed": false
   },
   "outputs": [],
   "source": [
    "train= pd.read_csv('../train.csv')\n",
    "test = pd.read_csv('../test.csv')"
   ]
  },
  {
   "cell_type": "code",
   "execution_count": 10,
   "metadata": {
    "collapsed": false
   },
   "outputs": [],
   "source": [
    "train = train.loc[train['y'] < 170]"
   ]
  },
  {
   "cell_type": "code",
   "execution_count": 12,
   "metadata": {
    "collapsed": true
   },
   "outputs": [],
   "source": [
    "y_train = train['y']\n",
    "train.drop('y',axis=1,inplace=True)"
   ]
  },
  {
   "cell_type": "code",
   "execution_count": 13,
   "metadata": {
    "collapsed": true
   },
   "outputs": [],
   "source": [
    "for c in train.columns:\n",
    "    if train[c].dtype == 'object':\n",
    "        lbl = LabelEncoder()\n",
    "        lbl.fit(list(train[c].values) + list(test[c].values))\n",
    "        train[c] = lbl.transform(list(train[c].values))\n",
    "        test[c] = lbl.transform(list(test[c].values))"
   ]
  },
  {
   "cell_type": "code",
   "execution_count": 14,
   "metadata": {
    "collapsed": true
   },
   "outputs": [],
   "source": [
    "n_comp = 10\n",
    "\n",
    "# ICA\n",
    "ica = FastICA(n_components=n_comp, random_state=420)\n",
    "ica2_results_train = ica.fit_transform(train)\n",
    "ica2_results_test = ica.transform(test)\n",
    "\n",
    "# GRP\n",
    "grp = GaussianRandomProjection(n_components=n_comp, eps=0.1, random_state=420)\n",
    "grp_results_train = grp.fit_transform(train)\n",
    "grp_results_test = grp.transform(test)\n",
    "\n",
    "# SRP\n",
    "srp = SparseRandomProjection(n_components=n_comp, dense_output=True, random_state=420)\n",
    "srp_results_train = srp.fit_transform(train)\n",
    "srp_results_test = srp.transform(test)\n",
    "\n",
    "# NMF\n",
    "nmf = NMF(n_components=n_comp, init='nndsvdar', random_state=420)\n",
    "nmf_results_train = nmf.fit_transform(train)\n",
    "nmf_results_test = nmf.transform(test)\n",
    "\n",
    "# FAG\n",
    "fag = FeatureAgglomeration(n_clusters=n_comp, linkage='ward')\n",
    "fag_results_train = fag.fit_transform(train)\n",
    "fag_results_test = fag.transform(test)"
   ]
  },
  {
   "cell_type": "code",
   "execution_count": 15,
   "metadata": {
    "collapsed": true
   },
   "outputs": [],
   "source": [
    "dim_reds = list()\n",
    "\n",
    "train_ica = pd.DataFrame()\n",
    "test_ica = pd.DataFrame()\n",
    "\n",
    "train_grp = pd.DataFrame()\n",
    "test_grp = pd.DataFrame()\n",
    "\n",
    "train_srp = pd.DataFrame()\n",
    "test_srp = pd.DataFrame()\n",
    "\n",
    "train_nmf = pd.DataFrame()\n",
    "test_nmf = pd.DataFrame()\n",
    "\n",
    "train_fag = pd.DataFrame()\n",
    "test_fag = pd.DataFrame()\n",
    "\n",
    "for i in range(1, n_comp + 1):\n",
    "\n",
    "    train_ica['ica_' + str(i)] = ica2_results_train[:, i - 1]\n",
    "    test_ica['ica_' + str(i)] = ica2_results_test[:, i - 1]\n",
    "\n",
    "    train_grp['grp_' + str(i)] = grp_results_train[:, i - 1]\n",
    "    test_grp['grp_' + str(i)] = grp_results_test[:, i - 1]\n",
    "\n",
    "    train_srp['srp_' + str(i)] = srp_results_train[:, i - 1]\n",
    "    test_srp['srp_' + str(i)] = srp_results_test[:, i - 1]\n",
    "    \n",
    "    train_nmf['nmf_' + str(i)] = nmf_results_train[:, i - 1]\n",
    "    test_nmf['nmf_' + str(i)] = nmf_results_test[:, i - 1]\n",
    "    \n",
    "    train_fag['fag_' + str(i)] = fag_results_train[:, i - 1]\n",
    "    test_fag['fag_' + str(i)] = fag_results_test[:, i - 1]\n",
    "    \n",
    "dim_reds.append(('ica', train_ica, test_ica))\n",
    "dim_reds.append(('grp', train_grp, test_grp))\n",
    "dim_reds.append(('srp', train_srp, test_srp))\n",
    "dim_reds.append(('nmf', train_nmf, test_nmf))\n",
    "dim_reds.append(('fag', train_fag, test_fag))"
   ]
  },
  {
   "cell_type": "code",
   "execution_count": 28,
   "metadata": {
    "collapsed": false
   },
   "outputs": [],
   "source": [
    "train_ica.to_csv(\"../features/test_ica.csv\",index=False)\n",
    "test_ica.to_csv('../features/test_ica.csv',index=False)\n",
    "\n",
    "train_grp.to_csv('../features/train_grp.csv',index=False)\n",
    "test_grp.to_csv('../features/test_grp.csv',index=False)\n",
    "\n",
    "train_srp.to_csv('../features/train_srp.csv',index=False)\n",
    "test_srp.to_csv('../features/test_srp.csv',index=False)\n",
    "\n",
    "train_nmf.to_csv('../features/train_nmf.csv',index=False)\n",
    "test_nmf.to_csv('../features/test_nmf.csv',index=False)\n",
    "\n",
    "train_fag.to_csv('../features/train_fag.csv',index=False)\n",
    "test_fag.to_csv('../features/test_fag.csv',index=False)\n"
   ]
  },
  {
   "cell_type": "code",
   "execution_count": null,
   "metadata": {
    "collapsed": true
   },
   "outputs": [],
   "source": []
  },
  {
   "cell_type": "code",
   "execution_count": null,
   "metadata": {
    "collapsed": true
   },
   "outputs": [],
   "source": []
  },
  {
   "cell_type": "code",
   "execution_count": null,
   "metadata": {
    "collapsed": true
   },
   "outputs": [],
   "source": []
  }
 ],
 "metadata": {
  "kernelspec": {
   "display_name": "Python 2",
   "language": "python",
   "name": "python2"
  },
  "language_info": {
   "codemirror_mode": {
    "name": "ipython",
    "version": 2
   },
   "file_extension": ".py",
   "mimetype": "text/x-python",
   "name": "python",
   "nbconvert_exporter": "python",
   "pygments_lexer": "ipython2",
   "version": "2.7.13"
  }
 },
 "nbformat": 4,
 "nbformat_minor": 2
}
